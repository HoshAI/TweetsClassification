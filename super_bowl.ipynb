{
 "cells": [
  {
   "cell_type": "markdown",
   "metadata": {},
   "source": [
    "# Super Bowl\n",
    "Concatinating all the data from the 3 scrapers. The dataframes were saved to csvs.\n"
   ]
  },
  {
   "cell_type": "markdown",
   "metadata": {},
   "source": [
    "### Site scrapers data"
   ]
  },
  {
   "cell_type": "code",
   "execution_count": 1,
   "metadata": {},
   "outputs": [],
   "source": [
    "import pandas as pd\n",
    "import numpy as np"
   ]
  },
  {
   "cell_type": "code",
   "execution_count": 3,
   "metadata": {},
   "outputs": [
    {
     "data": {
      "text/plain": [
       "(330, 2)"
      ]
     },
     "execution_count": 3,
     "metadata": {},
     "output_type": "execute_result"
    }
   ],
   "source": [
    "#from scrapping\n",
    "mega_1 = pd.read_csv('mega1.csv')\n",
    "mega_2 = pd.read_csv('mega2.csv')\n",
    "mega_abs = pd.concat([mega_1, mega_2])\n",
    "mega_abs = mega_abs.drop_duplicates(subset = ['handles'])\n",
    "mega_abs.shape"
   ]
  },
  {
   "cell_type": "markdown",
   "metadata": {},
   "source": [
    "### Tweeps scraper data"
   ]
  },
  {
   "cell_type": "code",
   "execution_count": 38,
   "metadata": {},
   "outputs": [
    {
     "data": {
      "text/plain": [
       "(803, 7)"
      ]
     },
     "execution_count": 38,
     "metadata": {},
     "output_type": "execute_result"
    }
   ],
   "source": [
    "# from twitter. Pick out the guys with popularity > 30k.\n",
    "_1 =  pd.read_csv('starting users.csv')\n",
    "_2 =  pd.read_csv('df_2 users.csv')\n",
    "_3 =  pd.read_csv('df_3 users.csv')\n",
    "_4 =  pd.read_csv('df_4 users.csv')\n",
    "_5 =  pd.read_csv('df_5 users.csv')\n",
    "_6 =  pd.read_csv('df_6 users.csv')\n",
    "_7 =  pd.read_csv('df_7 users.csv')\n",
    "_8 =  pd.read_csv('df_8 users.csv')\n",
    "_9 =  pd.read_csv('df_9 users.csv')\n",
    "_0 =  pd.read_csv('df_0 users.csv') \n",
    "_01 = pd.read_csv('df_01 users.csv') \n",
    "_02 = pd.read_csv('df_02 users.csv') \n",
    "_03 = pd.read_csv('df_03 users.csv') \n",
    "_04 = pd.read_csv('df_04 users.csv') \n",
    "_05 = pd.read_csv('df_05 users.csv') \n",
    "                  \n",
    "mega_df = pd.concat([_0, _1, _2, _3, _4, _5, _6, _7, _8, _9, _01, _02, _03, _04, _05])\n",
    "mega_df['popularity'] = mega_df['followers'] - mega_df['friends']\n",
    "mega_df = mega_df[mega_df.popularity >= 10000]\n",
    "mega_df= mega_df.drop_duplicates(subset = ['screen_name'])\n",
    "mega_df.shape"
   ]
  },
  {
   "cell_type": "markdown",
   "metadata": {},
   "source": [
    "### SuperBowl"
   ]
  },
  {
   "cell_type": "code",
   "execution_count": 39,
   "metadata": {},
   "outputs": [
    {
     "data": {
      "text/plain": [
       "(1066, 1)"
      ]
     },
     "execution_count": 39,
     "metadata": {},
     "output_type": "execute_result"
    }
   ],
   "source": [
    "names = pd.DataFrame(columns = ['handles'])\n",
    "names['handles'] = mega_df['screen_name']\n",
    "handles = pd.DataFrame(columns = ['handles'])\n",
    "handles['handles'] = mega_abs['handles']\n",
    "\n",
    "no_tags = names['handles'].to_list()\n",
    "def prepend(list, str): \n",
    "    str += '{0}'\n",
    "    list = [str.format(i) for i in list] \n",
    "    return(list) \n",
    "tags = prepend(no_tags, '@')\n",
    "names['handles'] = tags\n",
    "names.head()\n",
    "\n",
    "\n",
    "super_bowl = pd.concat([names, handles])\n",
    "super_bowl = super_bowl.drop_duplicates(subset = 'handles')\n",
    "super_bowl.shape"
   ]
  },
  {
   "cell_type": "code",
   "execution_count": 40,
   "metadata": {},
   "outputs": [
    {
     "data": {
      "text/html": [
       "<div>\n",
       "<style scoped>\n",
       "    .dataframe tbody tr th:only-of-type {\n",
       "        vertical-align: middle;\n",
       "    }\n",
       "\n",
       "    .dataframe tbody tr th {\n",
       "        vertical-align: top;\n",
       "    }\n",
       "\n",
       "    .dataframe thead th {\n",
       "        text-align: right;\n",
       "    }\n",
       "</style>\n",
       "<table border=\"1\" class=\"dataframe\">\n",
       "  <thead>\n",
       "    <tr style=\"text-align: right;\">\n",
       "      <th></th>\n",
       "      <th>handles</th>\n",
       "    </tr>\n",
       "  </thead>\n",
       "  <tbody>\n",
       "    <tr>\n",
       "      <td>1</td>\n",
       "      <td>@nanga_tp</td>\n",
       "    </tr>\n",
       "    <tr>\n",
       "      <td>2</td>\n",
       "      <td>@KenInvest</td>\n",
       "    </tr>\n",
       "    <tr>\n",
       "      <td>12</td>\n",
       "      <td>@chriskirwa</td>\n",
       "    </tr>\n",
       "    <tr>\n",
       "      <td>14</td>\n",
       "      <td>@Thee_mavERIC</td>\n",
       "    </tr>\n",
       "    <tr>\n",
       "      <td>33</td>\n",
       "      <td>@KTNNewsKE</td>\n",
       "    </tr>\n",
       "  </tbody>\n",
       "</table>\n",
       "</div>"
      ],
      "text/plain": [
       "          handles\n",
       "1       @nanga_tp\n",
       "2      @KenInvest\n",
       "12    @chriskirwa\n",
       "14  @Thee_mavERIC\n",
       "33     @KTNNewsKE"
      ]
     },
     "execution_count": 40,
     "metadata": {},
     "output_type": "execute_result"
    }
   ],
   "source": [
    "super_bowl.to_csv('superbowl.csv')\n",
    "super_bowl.head()"
   ]
  },
  {
   "cell_type": "markdown",
   "metadata": {},
   "source": [
    "[Back to top](#Super-Bowl)"
   ]
  },
  {
   "cell_type": "code",
   "execution_count": null,
   "metadata": {},
   "outputs": [],
   "source": []
  }
 ],
 "metadata": {
  "kernelspec": {
   "display_name": "Python 3",
   "language": "python",
   "name": "python3"
  },
  "language_info": {
   "codemirror_mode": {
    "name": "ipython",
    "version": 3
   },
   "file_extension": ".py",
   "mimetype": "text/x-python",
   "name": "python",
   "nbconvert_exporter": "python",
   "pygments_lexer": "ipython3",
   "version": "3.7.4"
  }
 },
 "nbformat": 4,
 "nbformat_minor": 4
}
