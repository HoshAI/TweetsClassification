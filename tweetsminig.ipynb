{
 "cells": [
  {
   "cell_type": "markdown",
   "metadata": {},
   "source": [
    "# Tweets Collection.\n",
    "Downloading tweets for the users from the [superbowl df.](super_bowl.ipynb)\n"
   ]
  },
  {
   "cell_type": "code",
   "execution_count": 33,
   "metadata": {},
   "outputs": [],
   "source": [
    "import tweepy\n",
    "import csv\n",
    "import os\n",
    "import pandas as pd\n",
    "\n",
    "consumer_key = os.environ.get('consumer_key')\n",
    "consumer_secret = os.environ.get('consumer_secret')\n",
    "access_token = os.environ.get('access_token')\n",
    "access_token_secret = os.environ.get('access_token_secret')\n",
    "\n",
    "auth = tweepy.OAuthHandler(consumer_key, consumer_secret)\n",
    "auth.set_access_token(access_token, access_token_secret)\n",
    "api = tweepy.API(auth)\n",
    "\n",
    "def get_tweets(screen_name):\n",
    "\n",
    "    alltweets = []  \n",
    "    \n",
    "    new_tweets = tweepy.Cursor(api.user_timeline, screen_name = screen_name).items(500)\n",
    "    alltweets.extend(new_tweets)\n",
    "\n",
    "    outtweets = [[tweet.id_str, tweet.created_at, tweet.text, tweet.favorite_count, tweet.retweet_count, tweet.entities, tweet.lang] for tweet in alltweets]\n",
    "    \n",
    "    #write the csv  \n",
    "    with open(f'{screen_name}_tweets.csv', 'w') as f:\n",
    "        writer = csv.writer(f)\n",
    "        writer.writerow([\"id\",\"created_at\",\"text\", \"favorites\", \"retweets\", \"entities\", \"language\"])\n",
    "        writer.writerows(outtweets)\n",
    "    \n",
    "    pass\n",
    "\n",
    "\n"
   ]
  },
  {
   "cell_type": "code",
   "execution_count": 46,
   "metadata": {},
   "outputs": [],
   "source": [
    "# fetch the unique handles from the superbowl\n",
    "# convert to list.\n",
    "\n",
    "handles = pd.read_csv('/home/ada/10academy/training /week2/monday/kernels/csvs/superbowl.csv')\n",
    "names = handles['handles'].to_list()\n",
    "\n",
    "#divide into groups\n",
    "n = 100\n",
    "x = [names[i:i + n] for i in range(0, len(names), n)]  \n",
    "batch_1 = x[0]\n",
    "batch_2 = x[1]\n",
    "batch_3 = x[2]\n",
    "batch_4 = x[3]\n",
    "batch_5 = x[4]\n",
    "batch_6 = x[5]\n",
    "batch_7 = x[6]\n",
    "batch_8 = x[7]\n",
    "batch_9 = x[8]\n",
    "batch_10 = x[9]\n",
    "batch_11 = x[10]"
   ]
  },
  {
   "cell_type": "code",
   "execution_count": 47,
   "metadata": {},
   "outputs": [],
   "source": [
    "#1\n",
    "if __name__ == '__main__':\n",
    "    #loop through the handles in the list\n",
    "    for i,name in enumerate(batch_1):\n",
    "        try:\n",
    "            get_tweets(name)\n",
    "        except Exception:\n",
    "            pass\n"
   ]
  },
  {
   "cell_type": "code",
   "execution_count": 48,
   "metadata": {},
   "outputs": [],
   "source": [
    "#2\n",
    "if __name__ == '__main__':\n",
    "    #loop through the handles in the list\n",
    "    for i,name in enumerate(batch_2):\n",
    "        try:\n",
    "            get_tweets(name)\n",
    "        except Exception:\n",
    "            pass\n"
   ]
  },
  {
   "cell_type": "code",
   "execution_count": 49,
   "metadata": {},
   "outputs": [],
   "source": [
    "#3\n",
    "if __name__ == '__main__':\n",
    "    #loop through the handles in the list\n",
    "    for i,name in enumerate(batch_3):\n",
    "        try:\n",
    "            get_tweets(name)\n",
    "        except Exception:\n",
    "            pass\n"
   ]
  },
  {
   "cell_type": "code",
   "execution_count": 50,
   "metadata": {},
   "outputs": [],
   "source": [
    "#4\n",
    "if __name__ == '__main__':\n",
    "    #loop through the handles in the list\n",
    "    for i,name in enumerate(batch_4):\n",
    "        try:\n",
    "            get_tweets(name)\n",
    "        except Exception:\n",
    "            pass"
   ]
  },
  {
   "cell_type": "code",
   "execution_count": 51,
   "metadata": {},
   "outputs": [],
   "source": [
    "#5\n",
    "if __name__ == '__main__':\n",
    "    #loop through the handles in the list\n",
    "    for i,name in enumerate(batch_5):\n",
    "        try:\n",
    "            get_tweets(name)\n",
    "        except Exception:\n",
    "            pass"
   ]
  },
  {
   "cell_type": "code",
   "execution_count": 53,
   "metadata": {},
   "outputs": [],
   "source": [
    "#6\n",
    "if __name__ == '__main__':\n",
    "    #loop through the handles in the list\n",
    "    for i,name in enumerate(batch_6):\n",
    "        try:\n",
    "            get_tweets(name)\n",
    "        except Exception:\n",
    "            pass"
   ]
  },
  {
   "cell_type": "code",
   "execution_count": null,
   "metadata": {},
   "outputs": [],
   "source": [
    "#7\n",
    "if __name__ == '__main__':\n",
    "    #loop through the handles in the list\n",
    "    for i,name in enumerate(batch_7):\n",
    "        try:\n",
    "            get_tweets(name)\n",
    "        except Exception:\n",
    "            pass"
   ]
  },
  {
   "cell_type": "code",
   "execution_count": null,
   "metadata": {},
   "outputs": [],
   "source": [
    "#8\n",
    "if __name__ == '__main__':\n",
    "    #loop through the handles in the list\n",
    "    for i,name in enumerate(batch_8):\n",
    "        try:\n",
    "            get_tweets(name)\n",
    "        except Exception:\n",
    "            pass"
   ]
  },
  {
   "cell_type": "code",
   "execution_count": null,
   "metadata": {},
   "outputs": [],
   "source": [
    "#9\n",
    "if __name__ == '__main__':\n",
    "    #loop through the handles in the list\n",
    "    for i,name in enumerate(batch_9):\n",
    "        try:\n",
    "            get_tweets(name)\n",
    "        except Exception:\n",
    "            pass"
   ]
  },
  {
   "cell_type": "code",
   "execution_count": null,
   "metadata": {},
   "outputs": [],
   "source": [
    "#10\n",
    "if __name__ == '__main__':\n",
    "    #loop through the handles in the list\n",
    "    for i,name in enumerate(batch_10):\n",
    "        try:\n",
    "            get_tweets(name)\n",
    "        except Exception:\n",
    "            pass"
   ]
  },
  {
   "cell_type": "code",
   "execution_count": null,
   "metadata": {},
   "outputs": [],
   "source": [
    "#11\n",
    "if __name__ == '__main__':\n",
    "    #loop through the handles in the list\n",
    "    for i,name in enumerate(batch_11):\n",
    "        try:\n",
    "            get_tweets(name)\n",
    "        except Exception:\n",
    "            pass"
   ]
  }
 ],
 "metadata": {
  "kernelspec": {
   "display_name": "Python 3",
   "language": "python",
   "name": "python3"
  },
  "language_info": {
   "codemirror_mode": {
    "name": "ipython",
    "version": 3
   },
   "file_extension": ".py",
   "mimetype": "text/x-python",
   "name": "python",
   "nbconvert_exporter": "python",
   "pygments_lexer": "ipython3",
   "version": "3.7.4"
  }
 },
 "nbformat": 4,
 "nbformat_minor": 4
}
